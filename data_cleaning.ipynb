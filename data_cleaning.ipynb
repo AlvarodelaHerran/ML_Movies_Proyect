{
 "cells": [
  {
   "cell_type": "code",
   "execution_count": 1,
   "id": "5006c551",
   "metadata": {},
   "outputs": [
    {
     "name": "stdout",
     "output_type": "stream",
     "text": [
      "Hola Luristán\n",
      "Penelopa\n",
      "holapenes\n",
      "holaMasPenesParaTodos\n",
      "HolaJulen\n"
     ]
    }
   ],
   "source": [
    "print(\"Hola Luristán\")\n",
    "print(\"Penelopa\")\n",
    "print(\"holapenes\")\n",
    "print(\"holaMasPenesParaTodos\")\n",
    "print(\"HolaJulen\")"
   ]
  },
  {
   "cell_type": "code",
   "execution_count": 1,
   "id": "305eee42",
   "metadata": {},
   "outputs": [
    {
     "name": "stdout",
     "output_type": "stream",
     "text": [
      "¡Archivo cargado con éxito!\n",
      "   MovieID                         Title        Genre  ReleaseYear  \\\n",
      "0        1          Might toward capital       Comedy         2003   \n",
      "1        2         He however experience       Comedy         1988   \n",
      "2        3  Star responsibility politics       Comedy         1971   \n",
      "3        4                  Exactly live       Comedy         1998   \n",
      "4        5      Focus improve especially  Documentary         2021   \n",
      "\n",
      "  ReleaseDate Country   BudgetUSD  US_BoxOfficeUSD  Global_BoxOfficeUSD  \\\n",
      "0  28-09-2003   China  6577427.79       6613685.82          15472035.66   \n",
      "1  14-02-1988     USA  1883810.10       1930949.15           3637731.12   \n",
      "2  02-11-1971     USA  2468079.29       4186694.69           7165111.24   \n",
      "3  06-08-1998     USA  1447311.46       2023683.92           4373820.26   \n",
      "4  17-12-2021   India   900915.86       2129629.10           3113017.38   \n",
      "\n",
      "   Opening_Day_SalesUSD  One_Week_SalesUSD  IMDbRating  RottenTomatoesScore  \\\n",
      "0            1778530.85         3034053.32         6.2                   58   \n",
      "1             247115.74          831828.84         5.2                   44   \n",
      "2             878453.95         2171405.93         5.5                   55   \n",
      "3             570657.72          898886.01         7.3                   87   \n",
      "4             361189.37          861775.91         6.1                   67   \n",
      "\n",
      "   NumVotesIMDb  NumVotesRT         Director           LeadActor  \n",
      "0          7865       10596   Kristina Moore     Brian Mccormick  \n",
      "1          1708         220  Benjamin Hudson         Ashley Pena  \n",
      "2          4678        7805      Kayla Young     Alexander Haley  \n",
      "3          2467        1751     Michael Ross     Patrick Barnett  \n",
      "4          5555         697   Faith Franklin  Duane Fletcher DDS  \n"
     ]
    }
   ],
   "source": [
    "import pandas as pd\n",
    "\n",
    "# Define la ruta (path) a tu archivo CSV\n",
    "# Usamos '../' para \"subir\" un nivel desde la carpeta 'notebooks/'\n",
    "path = './data/movies_dataset.csv'\n",
    "\n",
    "# Carga el CSV en un DataFrame\n",
    "try:\n",
    "    df = pd.read_csv(path, sep=',')\n",
    "    \n",
    "    # Muestra las primeras 5 filas para verificar que se cargó correctamente\n",
    "    print(\"¡Archivo cargado con éxito!\")\n",
    "    print(df.head())\n",
    "\n",
    "except FileNotFoundError:\n",
    "    print(f\"Error: No se encontró el archivo en la ruta: {path}\")\n",
    "    print(\"Asegúrate de que el archivo CSV esté en la carpeta 'data'.\")\n",
    "except Exception as e:\n",
    "    print(f\"Ocurrió un error inesperado: {e}\")"
   ]
  }
 ],
 "metadata": {
  "kernelspec": {
   "display_name": "base",
   "language": "python",
   "name": "python3"
  },
  "language_info": {
   "codemirror_mode": {
    "name": "ipython",
    "version": 3
   },
   "file_extension": ".py",
   "mimetype": "text/x-python",
   "name": "python",
   "nbconvert_exporter": "python",
   "pygments_lexer": "ipython3",
   "version": "3.12.4"
  }
 },
 "nbformat": 4,
 "nbformat_minor": 5
}
